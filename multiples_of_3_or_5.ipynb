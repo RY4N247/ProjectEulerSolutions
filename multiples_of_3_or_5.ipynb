{
 "cells": [
  {
   "metadata": {},
   "cell_type": "markdown",
   "source": [
    "### Multiples of 3 or 5\n",
    "If we list all the natural numbers $\\mathbb{N}$(positive integers (whole numbers)) below $10$ that are multiples of $3$ or $5$, we get $3,5,6$ and $9$. The sum of these multiples is $23$\n",
    "Find the sum of all the multiples of $3$ or $5$ below $1000$\n"
   ],
   "id": "cfe01b731cfd15c0"
  },
  {
   "cell_type": "code",
   "id": "initial_id",
   "metadata": {
    "collapsed": true,
    "ExecuteTime": {
     "end_time": "2025-06-01T23:28:37.899826Z",
     "start_time": "2025-06-01T23:28:37.895514Z"
    }
   },
   "source": [
    "sum_of_all_multiples = 0\n",
    "for i in range(1000):\n",
    "    if i % 3 == 0 or i % 5 == 0:\n",
    "        sum_of_all_multiples += i\n",
    "print(f\"Answer: {sum_of_all_multiples}\")"
   ],
   "outputs": [
    {
     "name": "stdout",
     "output_type": "stream",
     "text": [
      "Answer: 233168\n"
     ]
    }
   ],
   "execution_count": 5
  }
 ],
 "metadata": {
  "kernelspec": {
   "display_name": "Python 3",
   "language": "python",
   "name": "python3"
  },
  "language_info": {
   "codemirror_mode": {
    "name": "ipython",
    "version": 2
   },
   "file_extension": ".py",
   "mimetype": "text/x-python",
   "name": "python",
   "nbconvert_exporter": "python",
   "pygments_lexer": "ipython2",
   "version": "2.7.6"
  }
 },
 "nbformat": 4,
 "nbformat_minor": 5
}
